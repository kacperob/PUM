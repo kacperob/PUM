{
  "nbformat": 4,
  "nbformat_minor": 0,
  "metadata": {
    "colab": {
      "provenance": [],
      "authorship_tag": "ABX9TyN+CQmKF/0eqg1ib+UWjs5a",
      "include_colab_link": true
    },
    "kernelspec": {
      "name": "python3",
      "display_name": "Python 3"
    },
    "language_info": {
      "name": "python"
    }
  },
  "cells": [
    {
      "cell_type": "markdown",
      "metadata": {
        "id": "view-in-github",
        "colab_type": "text"
      },
      "source": [
        "<a href=\"https://colab.research.google.com/github/kacperob/PUM/blob/main/linear_regression.ipynb\" target=\"_parent\"><img src=\"https://colab.research.google.com/assets/colab-badge.svg\" alt=\"Open In Colab\"/></a>"
      ]
    },
    {
      "cell_type": "code",
      "execution_count": 51,
      "metadata": {
        "id": "Zxv8OCrpvF8b"
      },
      "outputs": [],
      "source": [
        "import pandas as pd\n",
        "import numpy as np\n",
        "from sklearn.decomposition import PCA\n",
        "from sklearn.preprocessing import LabelEncoder\n",
        "from sklearn.model_selection import train_test_split\n",
        "from sklearn.linear_model import LinearRegression\n",
        "from sklearn.metrics import mean_absolute_error\n",
        "from sklearn.metrics import median_absolute_error\n"
      ]
    },
    {
      "cell_type": "code",
      "source": [
        "salary_df = pd.read_csv(r'/content/Salary Data (2).csv')"
      ],
      "metadata": {
        "id": "eSg7s5BGvrIc"
      },
      "execution_count": 11,
      "outputs": []
    },
    {
      "cell_type": "code",
      "source": [
        "salary_df.shape"
      ],
      "metadata": {
        "colab": {
          "base_uri": "https://localhost:8080/"
        },
        "id": "r_gOipiSw4kT",
        "outputId": "d6d5f460-7c18-4729-bc20-4c246db3ff35"
      },
      "execution_count": 12,
      "outputs": [
        {
          "output_type": "execute_result",
          "data": {
            "text/plain": [
              "(375, 6)"
            ]
          },
          "metadata": {},
          "execution_count": 12
        }
      ]
    },
    {
      "cell_type": "code",
      "source": [
        "for i in salary_df.columns:\n",
        "  print(salary_df[i].value_counts())\n",
        "  print('*'*50)"
      ],
      "metadata": {
        "id": "4BBSDDIQ3HmG",
        "outputId": "c0fc5c59-de96-49f0-e851-3a11a6a5038a",
        "colab": {
          "base_uri": "https://localhost:8080/"
        }
      },
      "execution_count": 26,
      "outputs": [
        {
          "output_type": "stream",
          "name": "stdout",
          "text": [
            "29.0    25\n",
            "33.0    24\n",
            "35.0    22\n",
            "31.0    21\n",
            "44.0    21\n",
            "36.0    20\n",
            "34.0    17\n",
            "45.0    17\n",
            "38.0    15\n",
            "30.0    15\n",
            "47.0    15\n",
            "40.0    13\n",
            "28.0    13\n",
            "43.0    12\n",
            "37.0    12\n",
            "41.0    12\n",
            "32.0    12\n",
            "39.0    12\n",
            "42.0    11\n",
            "46.0    10\n",
            "27.0     9\n",
            "48.0     9\n",
            "50.0     8\n",
            "49.0     8\n",
            "26.0     7\n",
            "51.0     5\n",
            "25.0     4\n",
            "52.0     3\n",
            "24.0     1\n",
            "23.0     1\n",
            "53.0     1\n",
            "Name: Age, dtype: int64\n",
            "**************************************************\n",
            "1    196\n",
            "0    179\n",
            "Name: Gender, dtype: int64\n",
            "**************************************************\n",
            "0    226\n",
            "1     98\n",
            "2     51\n",
            "Name: Education Level, dtype: int64\n",
            "**************************************************\n",
            "29     12\n",
            "30     11\n",
            "110    10\n",
            "131     9\n",
            "134     9\n",
            "       ..\n",
            "4       1\n",
            "14      1\n",
            "43      1\n",
            "21      1\n",
            "80      1\n",
            "Name: Job Title, Length: 174, dtype: int64\n",
            "**************************************************\n",
            "2     32\n",
            "3     30\n",
            "8     25\n",
            "9     22\n",
            "4     20\n",
            "1     20\n",
            "16    18\n",
            "10    18\n",
            "7     18\n",
            "5     17\n",
            "15    16\n",
            "12    15\n",
            "19    15\n",
            "18    13\n",
            "14    13\n",
            "20    13\n",
            "21    13\n",
            "6     12\n",
            "13    11\n",
            "11    10\n",
            "22     9\n",
            "17     5\n",
            "0      4\n",
            "25     3\n",
            "23     2\n",
            "24     1\n",
            "Name: Years of Experience, dtype: int64\n",
            "**************************************************\n",
            "40000.0     32\n",
            "50000.0     22\n",
            "95000.0     22\n",
            "180000.0    20\n",
            "120000.0    20\n",
            "90000.0     18\n",
            "150000.0    18\n",
            "45000.0     18\n",
            "160000.0    17\n",
            "60000.0     17\n",
            "110000.0    17\n",
            "170000.0    16\n",
            "130000.0    14\n",
            "100000.0    14\n",
            "140000.0    14\n",
            "35000.0     13\n",
            "80000.0     12\n",
            "55000.0     10\n",
            "85000.0     10\n",
            "70000.0      9\n",
            "65000.0      9\n",
            "105000.0     6\n",
            "190000.0     4\n",
            "75000.0      4\n",
            "115000.0     3\n",
            "250000.0     2\n",
            "200000.0     2\n",
            "135000.0     2\n",
            "175000.0     2\n",
            "350.0        2\n",
            "125000.0     1\n",
            "30000.0      1\n",
            "220000.0     1\n",
            "185000.0     1\n",
            "145000.0     1\n",
            "155000.0     1\n",
            "Name: Salary, dtype: int64\n",
            "**************************************************\n"
          ]
        }
      ]
    },
    {
      "cell_type": "code",
      "source": [
        "salary_df.isna().any()"
      ],
      "metadata": {
        "id": "K2vqkrJ8zji0",
        "outputId": "b63dd619-3b02-4ca0-d929-69bbe5360a9d",
        "colab": {
          "base_uri": "https://localhost:8080/"
        }
      },
      "execution_count": 15,
      "outputs": [
        {
          "output_type": "execute_result",
          "data": {
            "text/plain": [
              "Age                    True\n",
              "Gender                 True\n",
              "Education Level        True\n",
              "Job Title              True\n",
              "Years of Experience    True\n",
              "Salary                 True\n",
              "dtype: bool"
            ]
          },
          "metadata": {},
          "execution_count": 15
        }
      ]
    },
    {
      "cell_type": "code",
      "source": [
        "salary_df.fillna(method='pad', inplace=True)"
      ],
      "metadata": {
        "id": "bNBR6i7xz69K"
      },
      "execution_count": 16,
      "outputs": []
    },
    {
      "cell_type": "code",
      "source": [
        "salary_df[['Age','Years of Experience']] = salary_df[['Age','Years of Experience']].apply(lambda x: x.astype(int))"
      ],
      "metadata": {
        "id": "Aw-1OoNGvJoc"
      },
      "execution_count": 17,
      "outputs": []
    },
    {
      "cell_type": "code",
      "source": [
        "age_mean = salary_df[(salary_df['Age'] <= 100) & (salary_df['Age'] >= 1)]['Age'].mean()"
      ],
      "metadata": {
        "id": "8cEn7t-c0ocb",
        "outputId": "b2194e6a-bc72-4df8-db2b-b3e80d555072",
        "colab": {
          "base_uri": "https://localhost:8080/"
        }
      },
      "execution_count": 20,
      "outputs": [
        {
          "output_type": "execute_result",
          "data": {
            "text/plain": [
              "37.38666666666666"
            ]
          },
          "metadata": {},
          "execution_count": 20
        }
      ]
    },
    {
      "cell_type": "code",
      "source": [
        "salary_df['Age'] = salary_df['Age'].fillna(age_mean)\n",
        "salary_df.loc[salary_df['Age'] >= 100, 'Age'] = age_mean\n",
        "salary_df.loc[salary_df['Age'] < 1, 'Age'] = age_mean"
      ],
      "metadata": {
        "id": "GgTuLJhY1F0W"
      },
      "execution_count": 21,
      "outputs": []
    },
    {
      "cell_type": "code",
      "source": [
        "le = LabelEncoder()"
      ],
      "metadata": {
        "id": "_u42ou5M1ssK"
      },
      "execution_count": 23,
      "outputs": []
    },
    {
      "cell_type": "code",
      "source": [
        "columns_to_code = ['Gender','Education Level','Job Title']\n",
        "\n",
        "# dzięki apply możemy za jednym wywołaniem kodu wykonać daną operację na każdym elemencie z listy\n",
        "salary_df[columns_to_code] = salary_df[columns_to_code].apply(LabelEncoder().fit_transform)"
      ],
      "metadata": {
        "id": "AHqPsTI019c5"
      },
      "execution_count": 25,
      "outputs": []
    },
    {
      "cell_type": "code",
      "source": [
        "x_train, x_test, y_train, y_test = train_test_split( salary_df[['Age','Gender','Education Level','Job Title','Years of Experience']], salary_df['Salary'], test_size=0.33, random_state=42)"
      ],
      "metadata": {
        "id": "isTeXfwV2QUy"
      },
      "execution_count": 44,
      "outputs": []
    },
    {
      "cell_type": "code",
      "source": [
        "reg = LinearRegression().fit(x_train, y_train)\n",
        "y_przewidywania =reg.predict(x_test)"
      ],
      "metadata": {
        "id": "7t8-DTd16DzV"
      },
      "execution_count": 47,
      "outputs": []
    },
    {
      "cell_type": "code",
      "source": [
        "mean_absolute_error(y_test,y_przewidywania)"
      ],
      "metadata": {
        "id": "kNd5Gk1T78qT",
        "outputId": "6c78425c-b65a-4325-df45-9c27bbdde21f",
        "colab": {
          "base_uri": "https://localhost:8080/"
        }
      },
      "execution_count": 49,
      "outputs": [
        {
          "output_type": "execute_result",
          "data": {
            "text/plain": [
              "10655.892049878197"
            ]
          },
          "metadata": {},
          "execution_count": 49
        }
      ]
    },
    {
      "cell_type": "code",
      "source": [
        "median_absolute_error(y_test,y_przewidywania)"
      ],
      "metadata": {
        "id": "vPaBF5PK8Lav",
        "outputId": "ea0cfe58-f015-447d-b929-eafa618f507e",
        "colab": {
          "base_uri": "https://localhost:8080/"
        }
      },
      "execution_count": 52,
      "outputs": [
        {
          "output_type": "execute_result",
          "data": {
            "text/plain": [
              "7107.919661770196"
            ]
          },
          "metadata": {},
          "execution_count": 52
        }
      ]
    }
  ]
}