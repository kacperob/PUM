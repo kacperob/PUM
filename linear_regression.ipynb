{
  "nbformat": 4,
  "nbformat_minor": 0,
  "metadata": {
    "colab": {
      "provenance": [],
      "authorship_tag": "ABX9TyOZDO3niEdMx+maqwtiWEOO",
      "include_colab_link": true
    },
    "kernelspec": {
      "name": "python3",
      "display_name": "Python 3"
    },
    "language_info": {
      "name": "python"
    }
  },
  "cells": [
    {
      "cell_type": "markdown",
      "metadata": {
        "id": "view-in-github",
        "colab_type": "text"
      },
      "source": [
        "<a href=\"https://colab.research.google.com/github/kacperob/PUM/blob/main/linear_regression.ipynb\" target=\"_parent\"><img src=\"https://colab.research.google.com/assets/colab-badge.svg\" alt=\"Open In Colab\"/></a>"
      ]
    },
    {
      "cell_type": "code",
      "execution_count": 1,
      "metadata": {
        "id": "Zxv8OCrpvF8b"
      },
      "outputs": [],
      "source": [
        "import pandas as pd\n",
        "import numpy as np\n",
        "from sklearn.decomposition import PCA\n",
        "from sklearn.preprocessing import LabelEncoder\n",
        "from sklearn.model_selection import train_test_split\n",
        "from sklearn.linear_model import LinearRegression, HuberRegressor\n",
        "from sklearn.metrics import mean_absolute_error\n",
        "from sklearn.metrics import median_absolute_error\n",
        "from sklearn.metrics import r2_score"
      ]
    },
    {
      "cell_type": "code",
      "source": [
        "salary_df = pd.read_csv(r'/content/Salary Data (2).csv')"
      ],
      "metadata": {
        "id": "eSg7s5BGvrIc"
      },
      "execution_count": 3,
      "outputs": []
    },
    {
      "cell_type": "code",
      "source": [
        "salary_df.shape"
      ],
      "metadata": {
        "colab": {
          "base_uri": "https://localhost:8080/"
        },
        "id": "r_gOipiSw4kT",
        "outputId": "bcd4b32d-4fd4-4fe7-cc9e-73e9408856a6"
      },
      "execution_count": 4,
      "outputs": [
        {
          "output_type": "execute_result",
          "data": {
            "text/plain": [
              "(375, 6)"
            ]
          },
          "metadata": {},
          "execution_count": 4
        }
      ]
    },
    {
      "cell_type": "code",
      "source": [
        "for i in salary_df.columns:\n",
        "  print(salary_df[i].value_counts())\n",
        "  print('*'*50)"
      ],
      "metadata": {
        "id": "4BBSDDIQ3HmG",
        "outputId": "42ef6488-42a8-4ef6-9872-4413e0425af3",
        "colab": {
          "base_uri": "https://localhost:8080/"
        }
      },
      "execution_count": 6,
      "outputs": [
        {
          "output_type": "stream",
          "name": "stdout",
          "text": [
            "33.0    24\n",
            "29.0    23\n",
            "35.0    22\n",
            "31.0    21\n",
            "44.0    21\n",
            "36.0    20\n",
            "34.0    17\n",
            "45.0    17\n",
            "38.0    15\n",
            "30.0    15\n",
            "47.0    15\n",
            "40.0    13\n",
            "28.0    13\n",
            "43.0    12\n",
            "37.0    12\n",
            "41.0    12\n",
            "32.0    12\n",
            "39.0    12\n",
            "42.0    11\n",
            "46.0    10\n",
            "27.0     9\n",
            "48.0     9\n",
            "50.0     8\n",
            "49.0     8\n",
            "26.0     7\n",
            "51.0     5\n",
            "25.0     4\n",
            "52.0     3\n",
            "24.0     1\n",
            "23.0     1\n",
            "53.0     1\n",
            "Name: Age, dtype: int64\n",
            "**************************************************\n",
            "Male      194\n",
            "Female    179\n",
            "Name: Gender, dtype: int64\n",
            "**************************************************\n",
            "Bachelor's    224\n",
            "Master's       98\n",
            "PhD            51\n",
            "Name: Education Level, dtype: int64\n",
            "**************************************************\n",
            "Director of Marketing              12\n",
            "Director of Operations             11\n",
            "Senior Business Analyst            10\n",
            "Senior Marketing Analyst            9\n",
            "Senior Marketing Manager            9\n",
            "                                   ..\n",
            "Business Development Manager        1\n",
            "Customer Service Representative     1\n",
            "IT Manager                          1\n",
            "Digital Marketing Manager           1\n",
            "Junior Web Developer                1\n",
            "Name: Job Title, Length: 174, dtype: int64\n",
            "**************************************************\n",
            "2.0     31\n",
            "3.0     30\n",
            "8.0     25\n",
            "9.0     22\n",
            "4.0     20\n",
            "7.0     18\n",
            "10.0    18\n",
            "16.0    18\n",
            "5.0     17\n",
            "15.0    16\n",
            "19.0    15\n",
            "12.0    15\n",
            "20.0    13\n",
            "18.0    13\n",
            "21.0    13\n",
            "14.0    13\n",
            "1.5     12\n",
            "6.0     12\n",
            "13.0    11\n",
            "11.0    10\n",
            "22.0     9\n",
            "1.0      7\n",
            "17.0     5\n",
            "25.0     3\n",
            "0.0      3\n",
            "23.0     2\n",
            "24.0     1\n",
            "0.5      1\n",
            "Name: Years of Experience, dtype: int64\n",
            "**************************************************\n",
            "40000.0     31\n",
            "50000.0     22\n",
            "95000.0     22\n",
            "180000.0    20\n",
            "120000.0    20\n",
            "90000.0     18\n",
            "150000.0    18\n",
            "45000.0     18\n",
            "160000.0    17\n",
            "60000.0     17\n",
            "110000.0    17\n",
            "170000.0    16\n",
            "130000.0    14\n",
            "100000.0    14\n",
            "140000.0    14\n",
            "35000.0     13\n",
            "80000.0     12\n",
            "55000.0     10\n",
            "85000.0     10\n",
            "70000.0      9\n",
            "65000.0      9\n",
            "105000.0     6\n",
            "190000.0     4\n",
            "75000.0      4\n",
            "115000.0     3\n",
            "250000.0     2\n",
            "200000.0     2\n",
            "135000.0     2\n",
            "175000.0     2\n",
            "125000.0     1\n",
            "30000.0      1\n",
            "220000.0     1\n",
            "185000.0     1\n",
            "145000.0     1\n",
            "155000.0     1\n",
            "350.0        1\n",
            "Name: Salary, dtype: int64\n",
            "**************************************************\n"
          ]
        }
      ]
    },
    {
      "cell_type": "code",
      "source": [
        "salary_df.isna().any()"
      ],
      "metadata": {
        "id": "K2vqkrJ8zji0",
        "outputId": "300e54c6-6ccf-4e61-e6d7-c3824da2c33c",
        "colab": {
          "base_uri": "https://localhost:8080/"
        }
      },
      "execution_count": 7,
      "outputs": [
        {
          "output_type": "execute_result",
          "data": {
            "text/plain": [
              "Age                    True\n",
              "Gender                 True\n",
              "Education Level        True\n",
              "Job Title              True\n",
              "Years of Experience    True\n",
              "Salary                 True\n",
              "dtype: bool"
            ]
          },
          "metadata": {},
          "execution_count": 7
        }
      ]
    },
    {
      "cell_type": "code",
      "source": [
        "salary_df.fillna(method='pad', inplace=True)"
      ],
      "metadata": {
        "id": "bNBR6i7xz69K"
      },
      "execution_count": 8,
      "outputs": []
    },
    {
      "cell_type": "code",
      "source": [
        "salary_df[['Age','Years of Experience']] = salary_df[['Age','Years of Experience']].apply(lambda x: x.astype(int))"
      ],
      "metadata": {
        "id": "Aw-1OoNGvJoc"
      },
      "execution_count": 9,
      "outputs": []
    },
    {
      "cell_type": "code",
      "source": [
        "age_mean = salary_df[(salary_df['Age'] <= 100) & (salary_df['Age'] >= 1)]['Age'].mean()"
      ],
      "metadata": {
        "id": "8cEn7t-c0ocb"
      },
      "execution_count": 10,
      "outputs": []
    },
    {
      "cell_type": "code",
      "source": [
        "salary_df['Age'] = salary_df['Age'].fillna(age_mean)\n",
        "salary_df.loc[salary_df['Age'] >= 100, 'Age'] = age_mean\n",
        "salary_df.loc[salary_df['Age'] < 1, 'Age'] = age_mean"
      ],
      "metadata": {
        "id": "GgTuLJhY1F0W"
      },
      "execution_count": 11,
      "outputs": []
    },
    {
      "cell_type": "code",
      "source": [
        "le = LabelEncoder()"
      ],
      "metadata": {
        "id": "_u42ou5M1ssK"
      },
      "execution_count": 12,
      "outputs": []
    },
    {
      "cell_type": "code",
      "source": [
        "columns_to_code = ['Gender','Education Level','Job Title']\n",
        "\n",
        "# dzięki apply możemy za jednym wywołaniem kodu wykonać daną operację na każdym elemencie z listy\n",
        "salary_df[columns_to_code] = salary_df[columns_to_code].apply(LabelEncoder().fit_transform)"
      ],
      "metadata": {
        "id": "AHqPsTI019c5"
      },
      "execution_count": 13,
      "outputs": []
    },
    {
      "cell_type": "code",
      "source": [
        "x_train, x_test, y_train, y_test = train_test_split( salary_df[['Age','Gender','Education Level','Job Title','Years of Experience']], salary_df['Salary'], test_size=0.33, random_state=42)"
      ],
      "metadata": {
        "id": "isTeXfwV2QUy"
      },
      "execution_count": 14,
      "outputs": []
    },
    {
      "cell_type": "code",
      "source": [
        "reg = LinearRegression().fit(x_train, y_train)\n",
        "y_przewidywania =reg.predict(x_test)"
      ],
      "metadata": {
        "id": "7t8-DTd16DzV"
      },
      "execution_count": 15,
      "outputs": []
    },
    {
      "cell_type": "code",
      "source": [
        "mean_absolute_error(y_test,y_przewidywania)"
      ],
      "metadata": {
        "id": "kNd5Gk1T78qT",
        "outputId": "0ec61c8e-b718-47d0-f8cd-2692dcec0730",
        "colab": {
          "base_uri": "https://localhost:8080/"
        }
      },
      "execution_count": 16,
      "outputs": [
        {
          "output_type": "execute_result",
          "data": {
            "text/plain": [
              "10655.892049878197"
            ]
          },
          "metadata": {},
          "execution_count": 16
        }
      ]
    },
    {
      "cell_type": "code",
      "source": [
        "median_absolute_error(y_test,y_przewidywania)"
      ],
      "metadata": {
        "id": "vPaBF5PK8Lav",
        "outputId": "4e9f0c6b-9cdf-4f07-ec0f-499e08e8d0b9",
        "colab": {
          "base_uri": "https://localhost:8080/"
        }
      },
      "execution_count": 17,
      "outputs": [
        {
          "output_type": "execute_result",
          "data": {
            "text/plain": [
              "7107.919661770196"
            ]
          },
          "metadata": {},
          "execution_count": 17
        }
      ]
    },
    {
      "cell_type": "code",
      "source": [
        "huber = HuberRegressor().fit(x_train,y_train)\n",
        "huber.score(x_train,y_train)\n",
        "huber.coef_\n",
        "huber.intercept_\n",
        "y_przwidywana_huber = huber.predict(x_test)\n",
        ""
      ],
      "metadata": {
        "id": "kL3OmjmZKetn",
        "outputId": "881fb0c6-e711-466e-9025-bf59f7337298",
        "colab": {
          "base_uri": "https://localhost:8080/"
        }
      },
      "execution_count": 20,
      "outputs": [
        {
          "output_type": "stream",
          "name": "stderr",
          "text": [
            "/usr/local/lib/python3.10/dist-packages/sklearn/linear_model/_huber.py:342: ConvergenceWarning: lbfgs failed to converge (status=1):\n",
            "STOP: TOTAL NO. of ITERATIONS REACHED LIMIT.\n",
            "\n",
            "Increase the number of iterations (max_iter) or scale the data as shown in:\n",
            "    https://scikit-learn.org/stable/modules/preprocessing.html\n",
            "  self.n_iter_ = _check_optimize_result(\"lbfgs\", opt_res, self.max_iter)\n"
          ]
        }
      ]
    },
    {
      "cell_type": "code",
      "source": [
        "\n",
        "y_prawdziwe = y_test\n",
        "print (\"regresja liniowa:\",  mean_absolute_error(y_prawdziwe,y_przewidywania))\n",
        "print(\"regresja Hubera\",mean_absolute_error(y_prawdziwe,y_przwidywana_huber))\n",
        ""
      ],
      "metadata": {
        "id": "_gzaZEtALhh1",
        "outputId": "85d93444-da6e-482c-d9a4-71f2d621635b",
        "colab": {
          "base_uri": "https://localhost:8080/"
        }
      },
      "execution_count": 24,
      "outputs": [
        {
          "output_type": "stream",
          "name": "stdout",
          "text": [
            "regresja liniowa: 10655.892049878197\n",
            "regresja Hubera 10281.018356691475\n"
          ]
        }
      ]
    },
    {
      "cell_type": "code",
      "source": [
        "\n",
        "y_prawdziwe = y_test\n",
        "print (\"regresja liniowa:\",  median_absolute_error(y_prawdziwe,y_przewidywania))\n",
        "print(\"regresja Hubera\",median_absolute_error(y_prawdziwe,y_przwidywana_huber))"
      ],
      "metadata": {
        "id": "dbfgIFRKMJe7",
        "outputId": "f07dc8ca-2f3e-4266-9e34-2c1eb99398e6",
        "colab": {
          "base_uri": "https://localhost:8080/"
        }
      },
      "execution_count": 25,
      "outputs": [
        {
          "output_type": "stream",
          "name": "stdout",
          "text": [
            "regresja liniowa: 10655.892049878197\n",
            "regresja Hubera 10281.018356691475\n"
          ]
        }
      ]
    },
    {
      "cell_type": "code",
      "source": [
        "y_prawdziwe = y_test\n",
        "print(\"regresja liniowa\", r2_score(y_prawdziwe,y_przewidywania))\n",
        "print(\"regresja Hubra\",r2_score(y_prawdziwe,y_przwidywana_huber))"
      ],
      "metadata": {
        "id": "UXrDS8ntMi90",
        "outputId": "7817cb2e-ff0a-4b1d-d00a-5c9ca3042225",
        "colab": {
          "base_uri": "https://localhost:8080/"
        }
      },
      "execution_count": 27,
      "outputs": [
        {
          "output_type": "stream",
          "name": "stdout",
          "text": [
            "regresja liniowa 0.8924678720454159\n",
            "regresja Hubra 0.8982653114109581\n"
          ]
        }
      ]
    }
  ]
}