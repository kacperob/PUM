{
  "nbformat": 4,
  "nbformat_minor": 0,
  "metadata": {
    "colab": {
      "provenance": [],
      "authorship_tag": "ABX9TyMZAKI13XElVLuMk5WMDdeY",
      "include_colab_link": true
    },
    "kernelspec": {
      "name": "python3",
      "display_name": "Python 3"
    },
    "language_info": {
      "name": "python"
    }
  },
  "cells": [
    {
      "cell_type": "markdown",
      "metadata": {
        "id": "view-in-github",
        "colab_type": "text"
      },
      "source": [
        "<a href=\"https://colab.research.google.com/github/kacperob/PUM/blob/main/pierwsze_zajecia.ipynb\" target=\"_parent\"><img src=\"https://colab.research.google.com/assets/colab-badge.svg\" alt=\"Open In Colab\"/></a>"
      ]
    },
    {
      "cell_type": "code",
      "execution_count": 71,
      "metadata": {
        "id": "nIqlpGxqodT3"
      },
      "outputs": [],
      "source": [
        "import numpy as np\n",
        "import pandas as pd\n",
        "import matplotlib.pyplot as plt\n",
        "import seaborn as sns\n",
        "from sklearn.preprocessing import LabelEncoder\n",
        "import math\n",
        "from sklearn.preprocessing import MinMaxScaler,StandardScaler\n",
        "from sklearn.model_selection import train_test_split"
      ]
    },
    {
      "cell_type": "code",
      "source": [
        "df = pd.read_csv(\"train.csv\")"
      ],
      "metadata": {
        "colab": {
          "base_uri": "https://localhost:8080/"
        },
        "id": "NJj3HStbokNG",
        "outputId": "6ae76114-fd88-47e4-b2c5-e086bdca475d"
      },
      "execution_count": 72,
      "outputs": [
        {
          "output_type": "stream",
          "name": "stderr",
          "text": [
            "<ipython-input-72-ef2ff63de291>:1: DtypeWarning: Columns (26) have mixed types. Specify dtype option on import or set low_memory=False.\n",
            "  df = pd.read_csv(\"train.csv\")\n"
          ]
        }
      ]
    },
    {
      "cell_type": "code",
      "source": [
        "df.shape"
      ],
      "metadata": {
        "colab": {
          "base_uri": "https://localhost:8080/"
        },
        "id": "V6dTWH6IpWw2",
        "outputId": "20a21083-4fd4-4ba1-ff2b-c96cf695834c"
      },
      "execution_count": 73,
      "outputs": [
        {
          "output_type": "execute_result",
          "data": {
            "text/plain": [
              "(100000, 28)"
            ]
          },
          "metadata": {},
          "execution_count": 73
        }
      ]
    },
    {
      "cell_type": "code",
      "source": [
        "df.drop_duplicates(subset=\"ID\", inplace=True)"
      ],
      "metadata": {
        "id": "m6DNbGtppZRv"
      },
      "execution_count": 74,
      "outputs": []
    },
    {
      "cell_type": "code",
      "source": [
        "# Przekształcenie danych w poszczególnych kolumnach na określony typ\n",
        "df['ID'] = df['ID'].astype(str)\n",
        "df['Customer_ID'] = df['Customer_ID'].astype(str)\n",
        "df['Month'] = df['Month'].astype(str)\n",
        "df['Name'] = df['Name'].astype(str)\n",
        "\n",
        "df['Age'] = df['Age'].astype(str)\n",
        "df['Age'] = df['Age'].str.replace('_', '')\n",
        "df['Age'] = pd.to_numeric(df['Age'], errors='coerce')\n",
        "df['Age'] = df['Age'].fillna(method = 'pad').astype(int)\n",
        "\n",
        "df['SSN'] = df['SSN'].astype(str)\n",
        "df['Occupation'] = df['Occupation'].astype(str)\n",
        "\n",
        "df['Annual_Income'] = df['Annual_Income'].astype(str)\n",
        "df['Annual_Income'] = df['Annual_Income'].str.replace('_', '')\n",
        "df['Annual_Income'] = pd.to_numeric(df['Annual_Income'], errors='coerce')\n",
        "df['Annual_Income'] = df['Annual_Income'].fillna(method = 'pad').astype(float)\n",
        "\n",
        "df['Monthly_Inhand_Salary'] = df['Monthly_Inhand_Salary'].astype(str)\n",
        "df['Monthly_Inhand_Salary'] = df['Monthly_Inhand_Salary'].str.replace('_', '')\n",
        "df['Monthly_Inhand_Salary'] = pd.to_numeric(df['Monthly_Inhand_Salary'], errors='coerce')\n",
        "df['Monthly_Inhand_Salary'] = df['Monthly_Inhand_Salary'].fillna(method = 'pad').astype(float)\n",
        "\n",
        "df['Num_Bank_Accounts'] = df['Num_Bank_Accounts'].astype(str)\n",
        "df['Num_Bank_Accounts'] = df['Num_Bank_Accounts'].str.replace('_', '')\n",
        "df['Num_Bank_Accounts'] = pd.to_numeric(df['Num_Bank_Accounts'], errors='coerce')\n",
        "df['Num_Bank_Accounts'] = df['Num_Bank_Accounts'].fillna(method = 'pad').astype(int)\n",
        "\n",
        "df['Num_Credit_Card'] = df['Num_Credit_Card'].astype(str)\n",
        "df['Num_Credit_Card'] = df['Num_Credit_Card'].str.replace('_', '')\n",
        "df['Num_Credit_Card'] = df['Num_Credit_Card'].astype(int)\n",
        "\n",
        "df['Interest_Rate'] = df['Interest_Rate'].astype(str)\n",
        "df['Interest_Rate'] = df['Interest_Rate'].str.replace('_', '')\n",
        "df['Interest_Rate'] = pd.to_numeric(df['Interest_Rate'], errors='coerce')\n",
        "df['Interest_Rate'] = df['Interest_Rate'].fillna(method = 'pad').astype(float)\n",
        "\n",
        "df['Num_of_Loan'] = df['Num_of_Loan'].astype(str)\n",
        "df['Num_of_Loan'] = df['Num_of_Loan'].str.replace('_', '')\n",
        "df['Num_of_Loan'] = pd.to_numeric(df['Num_of_Loan'], errors='coerce')\n",
        "df['Num_of_Loan'] = df['Num_of_Loan'].fillna(method = 'pad').astype(int)\n",
        "\n",
        "df['Type_of_Loan'] = df['Type_of_Loan'].astype(str)\n",
        "\n",
        "df['Delay_from_due_date'] = df['Delay_from_due_date'].astype(str)\n",
        "df['Delay_from_due_date'] = df['Delay_from_due_date'].str.replace('_', '')\n",
        "df['Delay_from_due_date'] = pd.to_numeric(df['Delay_from_due_date'], errors='coerce')\n",
        "df['Delay_from_due_date'] = df['Delay_from_due_date'].fillna(method = 'pad').astype(int)\n",
        "\n",
        "df['Num_of_Delayed_Payment'] = df['Num_of_Delayed_Payment'].astype(str)\n",
        "df['Num_of_Delayed_Payment'] = df['Num_of_Delayed_Payment'].str.replace('_', '')\n",
        "df['Num_of_Delayed_Payment'] = pd.to_numeric(df['Num_of_Delayed_Payment'], errors='coerce')\n",
        "df['Num_of_Delayed_Payment'] = df['Num_of_Delayed_Payment'].fillna(method = 'pad').astype(int)\n",
        "\n",
        "df['Changed_Credit_Limit'] = df['Changed_Credit_Limit'].astype(str)\n",
        "df['Changed_Credit_Limit'] = df['Changed_Credit_Limit'].str.replace('_', '')\n",
        "df['Changed_Credit_Limit'] = pd.to_numeric(df['Changed_Credit_Limit'], errors='coerce')\n",
        "df['Changed_Credit_Limit'] = df['Changed_Credit_Limit'].fillna(method = 'pad').astype(float)\n",
        "\n",
        "\n",
        "df['Num_Credit_Inquiries'] = df['Num_Credit_Inquiries'].astype(str)\n",
        "df['Num_Credit_Inquiries'] = df['Num_Credit_Inquiries'].str.replace('_', '')\n",
        "df['Num_Credit_Inquiries'] = pd.to_numeric(df['Num_Credit_Inquiries'], errors='coerce')\n",
        "df['Num_Credit_Inquiries'] = df['Num_Credit_Inquiries'].fillna(method = 'pad').astype(float)\n",
        "\n",
        "df['Credit_Mix'] = df['Credit_Mix'].astype(str)\n",
        "\n",
        "df['Outstanding_Debt'] = df['Outstanding_Debt'].astype(str)\n",
        "df['Outstanding_Debt'] = df['Outstanding_Debt'].str.replace('_', '')\n",
        "df['Outstanding_Debt'] = pd.to_numeric(df['Outstanding_Debt'], errors='coerce')\n",
        "df['Outstanding_Debt'] = df['Outstanding_Debt'].fillna(method = 'pad').astype(float)\n",
        "\n",
        "df['Credit_Utilization_Ratio'] = df['Credit_Utilization_Ratio'].astype(str)\n",
        "df['Credit_Utilization_Ratio'] = df['Credit_Utilization_Ratio'].str.replace('_', '')\n",
        "df['Credit_Utilization_Ratio'] = pd.to_numeric(df['Credit_Utilization_Ratio'], errors='coerce')\n",
        "df['Credit_Utilization_Ratio'] = df['Credit_Utilization_Ratio'].fillna(method = 'pad').astype(float)\n",
        "\n",
        "df['Credit_History_Age'] = df['Credit_History_Age'].astype(str)\n",
        "df['Payment_of_Min_Amount'] = df['Payment_of_Min_Amount'].astype(str)\n",
        "\n",
        "df['Total_EMI_per_month'] = df['Total_EMI_per_month'].astype(str)\n",
        "df['Total_EMI_per_month'] = df['Total_EMI_per_month'].str.replace('_', '')\n",
        "df['Total_EMI_per_month'] = pd.to_numeric(df['Total_EMI_per_month'], errors='coerce')\n",
        "df['Total_EMI_per_month'] = df['Total_EMI_per_month'].fillna(method = 'pad').astype(float)\n",
        "\n",
        "df['Amount_invested_monthly'] = df['Amount_invested_monthly'].astype(str)\n",
        "df['Amount_invested_monthly'] = df['Amount_invested_monthly'].str.replace('_', '')\n",
        "df['Amount_invested_monthly'] = pd.to_numeric(df['Amount_invested_monthly'], errors='coerce')\n",
        "df['Amount_invested_monthly'] = df['Amount_invested_monthly'].fillna(method = 'pad').astype(float)\n",
        "\n",
        "df['Payment_Behaviour'] = df['Payment_Behaviour'].astype(str)\n",
        "\n",
        "df['Monthly_Balance'] = df['Monthly_Balance'].astype(str)\n",
        "df['Monthly_Balance'] = df['Monthly_Balance'].str.replace('_', '')\n",
        "df['Monthly_Balance'] = pd.to_numeric(df['Monthly_Balance'], errors='coerce')\n",
        "df['Monthly_Balance'] = df['Monthly_Balance'].fillna(method = 'pad').astype(float)\n",
        "\n",
        "df['Credit_Score'] = df['Credit_Score'].astype(str)\n"
      ],
      "metadata": {
        "id": "JWeoPOMSrYrK"
      },
      "execution_count": 75,
      "outputs": []
    },
    {
      "cell_type": "code",
      "source": [
        "df.dtypes\n"
      ],
      "metadata": {
        "colab": {
          "base_uri": "https://localhost:8080/"
        },
        "id": "sW22vkrGWM7M",
        "outputId": "20e70289-5a34-4ab7-9eb0-07e3053417bc"
      },
      "execution_count": 76,
      "outputs": [
        {
          "output_type": "execute_result",
          "data": {
            "text/plain": [
              "ID                           object\n",
              "Customer_ID                  object\n",
              "Month                        object\n",
              "Name                         object\n",
              "Age                           int64\n",
              "SSN                          object\n",
              "Occupation                   object\n",
              "Annual_Income               float64\n",
              "Monthly_Inhand_Salary       float64\n",
              "Num_Bank_Accounts             int64\n",
              "Num_Credit_Card               int64\n",
              "Interest_Rate               float64\n",
              "Num_of_Loan                   int64\n",
              "Type_of_Loan                 object\n",
              "Delay_from_due_date           int64\n",
              "Num_of_Delayed_Payment        int64\n",
              "Changed_Credit_Limit        float64\n",
              "Num_Credit_Inquiries        float64\n",
              "Credit_Mix                   object\n",
              "Outstanding_Debt            float64\n",
              "Credit_Utilization_Ratio    float64\n",
              "Credit_History_Age           object\n",
              "Payment_of_Min_Amount        object\n",
              "Total_EMI_per_month         float64\n",
              "Amount_invested_monthly     float64\n",
              "Payment_Behaviour            object\n",
              "Monthly_Balance             float64\n",
              "Credit_Score                 object\n",
              "dtype: object"
            ]
          },
          "metadata": {},
          "execution_count": 76
        }
      ]
    },
    {
      "cell_type": "code",
      "source": [
        "df = df.drop(df[df['Age'] > 100].index)\n",
        "df['Age'] = df['Age'].fillna(method = 'pad')"
      ],
      "metadata": {
        "id": "MCzyfWtKp2QH"
      },
      "execution_count": 80,
      "outputs": []
    },
    {
      "cell_type": "code",
      "source": [
        "\n",
        "le = LabelEncoder()\n",
        "\n",
        "columns_to_code = ['Occupation', 'Annual_Income', 'Monthly_Balance', 'Payment_Behaviour', \"Credit_Score\"]\n",
        "\n",
        "df[columns_to_code] = df[columns_to_code].apply(LabelEncoder().fit_transform)\n"
      ],
      "metadata": {
        "id": "c7S9g9ILqX8l"
      },
      "execution_count": 82,
      "outputs": []
    },
    {
      "cell_type": "markdown",
      "source": [],
      "metadata": {
        "id": "hcVXcEoGv4vp"
      }
    }
  ]
}